{
 "cells": [
  {
   "cell_type": "markdown",
   "metadata": {},
   "source": [
    "# Question1 : Solution\n"
   ]
  },
  {
   "cell_type": "code",
   "execution_count": 2,
   "metadata": {},
   "outputs": [
    {
     "name": "stdout",
     "output_type": "stream",
     "text": [
      "Sum of numbers in given list:  81\n"
     ]
    }
   ],
   "source": [
    "l1 = [10, 15, 25, 18, 13]\n",
    " \n",
    "\n",
    "def sum(list, s):\n",
    "    if (s == 0):\n",
    "        return 0\n",
    "    else:\n",
    "        return list[s - 1] + sum(list, s - 1)\n",
    "  \n",
    "     \n",
    "result = sum(l1, len(l1))\n",
    " \n",
    "print(\"Sum of numbers in given list: \", result)\n"
   ]
  },
  {
   "cell_type": "markdown",
   "metadata": {},
   "source": [
    "# Question2 : Solution"
   ]
  },
  {
   "cell_type": "code",
   "execution_count": 26,
   "metadata": {},
   "outputs": [
    {
     "name": "stdout",
     "output_type": "stream",
     "text": [
      "{'1': 10, '2': 20, '3': 30, '4': 40, '5': 50, '6': 60, '7': 70, '8': 80, '9': 90}\n"
     ]
    }
   ],
   "source": [
    "Dict_list = [{\"1\": 10, \"2\": 20, \"3\": 30}, \n",
    "             {\"4\": 40, \"5\": 50, \"6\": 60}, \n",
    "             {\"7\": 70, \"8\": 80, \"9\": 90}] \n",
    "    \n",
    "res = {} \n",
    "for dic in Dict_list: \n",
    "    for key, val in dic.items(): \n",
    "  \n",
    "        if key in res: \n",
    "            res[key] = max(res[key], val) \n",
    "        else: \n",
    "            res[key] = val \n",
    "\n",
    "print(str(res))\n"
   ]
  },
  {
   "cell_type": "markdown",
   "metadata": {},
   "source": [
    "# Question3 : Solution"
   ]
  },
  {
   "cell_type": "code",
   "execution_count": 3,
   "metadata": {},
   "outputs": [
    {
     "name": "stdout",
     "output_type": "stream",
     "text": [
      "4\n"
     ]
    }
   ],
   "source": [
    "def maxConsecutive(arr, n):\n",
    "    count = 0\n",
    "    result = 0 \n",
    "  \n",
    "    for i in range(0, n):\n",
    "        if (arr[i] == 0): \n",
    "            count = 0\n",
    "  \n",
    "        else: \n",
    "            count+= 1 \n",
    "            result = max(result, count)  \n",
    "          \n",
    "    return result  \n",
    "  \n",
    "\n",
    "arr = [0,0,0,1,1,1,0,0,0,1,1,0,1,1,1,1,0,0,1,1]\n",
    "n = len(arr)  \n",
    "print(maxConsecutive(arr, n)) \n",
    "  \n"
   ]
  },
  {
   "cell_type": "code",
   "execution_count": null,
   "metadata": {},
   "outputs": [],
   "source": []
  }
 ],
 "metadata": {
  "kernelspec": {
   "display_name": "Python 3",
   "language": "python",
   "name": "python3"
  },
  "language_info": {
   "codemirror_mode": {
    "name": "ipython",
    "version": 3
   },
   "file_extension": ".py",
   "mimetype": "text/x-python",
   "name": "python",
   "nbconvert_exporter": "python",
   "pygments_lexer": "ipython3",
   "version": "3.7.4"
  }
 },
 "nbformat": 4,
 "nbformat_minor": 2
}
